{
 "cells": [
  {
   "cell_type": "markdown",
   "metadata": {
    "id": "klGNgWREsvQv",
    "pycharm": {
     "name": "#%% md\n"
    }
   },
   "source": [
    "##### Copyright 2021 The TF-Agents Authors."
   ]
  },
  {
   "cell_type": "code",
   "execution_count": 1,
   "metadata": {
    "cellView": "form",
    "execution": {
     "iopub.execute_input": "2022-06-05T13:00:31.736424Z",
     "iopub.status.busy": "2022-06-05T13:00:31.735843Z",
     "iopub.status.idle": "2022-06-05T13:00:31.739513Z",
     "shell.execute_reply": "2022-06-05T13:00:31.738974Z"
    },
    "id": "nQnmcm0oI1Q-",
    "pycharm": {
     "name": "#%%\n"
    }
   },
   "outputs": [],
   "source": [
    "#@title Licensed under the Apache License, Version 2.0 (the \"License\");\n",
    "# you may not use this file except in compliance with the License.\n",
    "# You may obtain a copy of the License at\n",
    "#\n",
    "# https://www.apache.org/licenses/LICENSE-2.0\n",
    "#\n",
    "# Unless required by applicable law or agreed to in writing, software\n",
    "# distributed under the License is distributed on an \"AS IS\" BASIS,\n",
    "# WITHOUT WARRANTIES OR CONDITIONS OF ANY KIND, either express or implied.\n",
    "# See the License for the specific language governing permissions and\n",
    "# limitations under the License."
   ]
  },
  {
   "cell_type": "markdown",
   "metadata": {
    "id": "HNtBC6Bbb1YU",
    "pycharm": {
     "name": "#%% md\n"
    }
   },
   "source": [
    "# REINFORCE agent\n",
    "\n",
    "<table class=\"tfo-notebook-buttons\" align=\"left\">\n",
    "  <td>\n",
    "    <a target=\"_blank\" href=\"https://www.tensorflow.org/agents/tutorials/6_reinforce_tutorial\">\n",
    "    <img src=\"https://www.tensorflow.org/images/tf_logo_32px.png\" />\n",
    "    View on TensorFlow.org</a>\n",
    "  </td>\n",
    "  <td>\n",
    "    <a target=\"_blank\" href=\"https://colab.research.google.com/github/tensorflow/agents/blob/master/docs/tutorials/6_reinforce_tutorial.ipynb\">\n",
    "    <img src=\"https://www.tensorflow.org/images/colab_logo_32px.png\" />\n",
    "    Run in Google Colab</a>\n",
    "  </td>\n",
    "  <td>\n",
    "    <a target=\"_blank\" href=\"https://github.com/tensorflow/agents/blob/master/docs/tutorials/6_reinforce_tutorial.ipynb\">\n",
    "    <img src=\"https://www.tensorflow.org/images/GitHub-Mark-32px.png\" />\n",
    "    View source on GitHub</a>\n",
    "  </td>\n",
    "  <td>\n",
    "    <a href=\"https://storage.googleapis.com/tensorflow_docs/agents/docs/tutorials/6_reinforce_tutorial.ipynb\"><img src=\"https://www.tensorflow.org/images/download_logo_32px.png\" />Download notebook</a>\n",
    "  </td>\n",
    "</table>"
   ]
  },
  {
   "cell_type": "markdown",
   "metadata": {
    "id": "ZOUOQOrFs3zn",
    "pycharm": {
     "name": "#%% md\n"
    }
   },
   "source": [
    "## Introduction"
   ]
  },
  {
   "cell_type": "markdown",
   "metadata": {
    "id": "cKOCZlhUgXVK",
    "pycharm": {
     "name": "#%% md\n"
    }
   },
   "source": [
    "This example shows how to train a [REINFORCE](https://www-anw.cs.umass.edu/~barto/courses/cs687/williams92simple.pdf) agent on the Cartpole environment using the TF-Agents library, similar to the [DQN tutorial](1_dqn_tutorial.ipynb).\n",
    "\n",
    "![Cartpole environment](images/cartpole.png)\n",
    "\n",
    "We will walk you through all the components in a Reinforcement Learning (RL) pipeline for training, evaluation and data collection.\n"
   ]
  },
  {
   "cell_type": "markdown",
   "metadata": {
    "id": "1u9QVVsShC9X",
    "pycharm": {
     "name": "#%% md\n"
    }
   },
   "source": [
    "## Setup"
   ]
  },
  {
   "cell_type": "markdown",
   "metadata": {
    "id": "I5PNmEzIb9t4",
    "pycharm": {
     "name": "#%% md\n"
    }
   },
   "source": [
    "If you haven't installed the following dependencies, run:"
   ]
  },
  {
   "cell_type": "code",
   "execution_count": null,
   "metadata": {
    "execution": {
     "iopub.execute_input": "2022-06-05T13:00:31.743002Z",
     "iopub.status.busy": "2022-06-05T13:00:31.742534Z",
     "iopub.status.idle": "2022-06-05T13:00:45.990338Z",
     "shell.execute_reply": "2022-06-05T13:00:45.989584Z"
    },
    "id": "KEHR2Ui-lo8O",
    "pycharm": {
     "name": "#%%\n",
     "is_executing": true
    }
   },
   "outputs": [],
   "source": [
    "!sudo apt-get update\n",
    "!sudo apt-get install -y xvfb ffmpeg freeglut3-dev\n",
    "!pip install 'imageio==2.4.0'\n",
    "!pip install pyvirtualdisplay\n",
    "!pip install tf-agents[reverb]\n",
    "!pip install pyglet xvfbwrapper\n"
   ]
  },
  {
   "cell_type": "code",
   "execution_count": 3,
   "metadata": {
    "execution": {
     "iopub.execute_input": "2022-06-05T13:00:45.994102Z",
     "iopub.status.busy": "2022-06-05T13:00:45.993862Z",
     "iopub.status.idle": "2022-06-05T13:00:48.815837Z",
     "shell.execute_reply": "2022-06-05T13:00:48.814746Z"
    },
    "id": "sMitx5qSgJk1",
    "pycharm": {
     "name": "#%%\n"
    }
   },
   "outputs": [],
   "source": [
    "from __future__ import absolute_import\n",
    "from __future__ import division\n",
    "from __future__ import print_function\n",
    "\n",
    "import base64\n",
    "import imageio\n",
    "import IPython\n",
    "import matplotlib.pyplot as plt\n",
    "import numpy as np\n",
    "import PIL.Image\n",
    "import pyvirtualdisplay\n",
    "import reverb\n",
    "\n",
    "import tensorflow as tf\n",
    "\n",
    "from tf_agents.agents.reinforce import reinforce_agent\n",
    "from tf_agents.drivers import py_driver\n",
    "from tf_agents.environments import suite_gym\n",
    "from tf_agents.environments import tf_py_environment\n",
    "from tf_agents.networks import actor_distribution_network\n",
    "from tf_agents.policies import py_tf_eager_policy\n",
    "from tf_agents.replay_buffers import reverb_replay_buffer\n",
    "from tf_agents.replay_buffers import reverb_utils\n",
    "from tf_agents.specs import tensor_spec\n",
    "from tf_agents.trajectories import trajectory\n",
    "from tf_agents.utils import common\n",
    "\n",
    "# Set up a virtual display for rendering OpenAI gym environments.\n",
    "display = pyvirtualdisplay.Display(visible=False, size=(1400, 900)).start()"
   ]
  },
  {
   "cell_type": "markdown",
   "metadata": {
    "id": "LmC0NDhdLIKY",
    "pycharm": {
     "name": "#%% md\n"
    }
   },
   "source": [
    "## Hyperparameters"
   ]
  },
  {
   "cell_type": "code",
   "execution_count": 4,
   "metadata": {
    "execution": {
     "iopub.execute_input": "2022-06-05T13:00:48.821036Z",
     "iopub.status.busy": "2022-06-05T13:00:48.820089Z",
     "iopub.status.idle": "2022-06-05T13:00:48.825453Z",
     "shell.execute_reply": "2022-06-05T13:00:48.824905Z"
    },
    "id": "HC1kNrOsLSIZ",
    "pycharm": {
     "name": "#%%\n"
    }
   },
   "outputs": [],
   "source": [
    "env_name = \"CartPole-v0\" # @param {type:\"string\"}\n",
    "num_iterations = 250 # @param {type:\"integer\"}\n",
    "collect_episodes_per_iteration = 2 # @param {type:\"integer\"}\n",
    "replay_buffer_capacity = 2000 # @param {type:\"integer\"}\n",
    "\n",
    "fc_layer_params = (100,)\n",
    "\n",
    "learning_rate = 1e-3 # @param {type:\"number\"}\n",
    "log_interval = 25 # @param {type:\"integer\"}\n",
    "num_eval_episodes = 10 # @param {type:\"integer\"}\n",
    "eval_interval = 50 # @param {type:\"integer\"}"
   ]
  },
  {
   "cell_type": "markdown",
   "metadata": {
    "id": "VMsJC3DEgI0x",
    "pycharm": {
     "name": "#%% md\n"
    }
   },
   "source": [
    "## Environment\n",
    "\n",
    "Environments in RL represent the task or problem that we are trying to solve. Standard environments can be easily created in TF-Agents using `suites`. We have different `suites` for loading environments from sources such as the OpenAI Gym, Atari, DM Control, etc., given a string environment name.\n",
    "\n",
    "Now let us load the CartPole environment from the OpenAI Gym suite."
   ]
  },
  {
   "cell_type": "code",
   "execution_count": 5,
   "metadata": {
    "execution": {
     "iopub.execute_input": "2022-06-05T13:00:48.828455Z",
     "iopub.status.busy": "2022-06-05T13:00:48.828077Z",
     "iopub.status.idle": "2022-06-05T13:00:48.856144Z",
     "shell.execute_reply": "2022-06-05T13:00:48.855595Z"
    },
    "id": "pYEz-S9gEv2-",
    "pycharm": {
     "name": "#%%\n"
    }
   },
   "outputs": [],
   "source": [
    "env = suite_gym.load(env_name)"
   ]
  },
  {
   "cell_type": "markdown",
   "metadata": {
    "id": "IIHYVBkuvPNw",
    "pycharm": {
     "name": "#%% md\n"
    }
   },
   "source": [
    "We can render this environment to see how it looks. A free-swinging pole is attached to a cart.  The goal is to move the cart right or left in order to keep the pole pointing up."
   ]
  },
  {
   "cell_type": "code",
   "execution_count": 6,
   "metadata": {
    "execution": {
     "iopub.execute_input": "2022-06-05T13:00:48.859259Z",
     "iopub.status.busy": "2022-06-05T13:00:48.858815Z",
     "iopub.status.idle": "2022-06-05T13:00:48.974180Z",
     "shell.execute_reply": "2022-06-05T13:00:48.973619Z"
    },
    "id": "RlO7WIQHu_7D",
    "pycharm": {
     "name": "#%%\n"
    }
   },
   "outputs": [
    {
     "data": {
      "image/png": "[encoded data removed]",
      "text/plain": [
       "<PIL.Image.Image image mode=RGB size=600x400>"
      ]
     },
     "execution_count": 6,
     "metadata": {},
     "output_type": "execute_result"
    }
   ],
   "source": [
    "#@test {\"skip\": true}\n",
    "env.reset()\n",
    "PIL.Image.fromarray(env.render())"
   ]
  },
  {
   "cell_type": "markdown",
   "metadata": {
    "id": "B9_lskPOey18",
    "pycharm": {
     "name": "#%% md\n"
    }
   },
   "source": [
    "The `time_step = environment.step(action)` statement takes `action` in the environment.  The `TimeStep` tuple returned contains the environment's next observation and reward for that action. The `time_step_spec()` and `action_spec()` methods in the environment return the specifications (types, shapes, bounds) of the `time_step` and `action` respectively."
   ]
  },
  {
   "cell_type": "code",
   "execution_count": 7,
   "metadata": {
    "execution": {
     "iopub.execute_input": "2022-06-05T13:00:48.977385Z",
     "iopub.status.busy": "2022-06-05T13:00:48.976959Z",
     "iopub.status.idle": "2022-06-05T13:00:49.135908Z",
     "shell.execute_reply": "2022-06-05T13:00:49.135322Z"
    },
    "id": "exDv57iHfwQV",
    "pycharm": {
     "name": "#%%\n"
    }
   },
   "outputs": [
    {
     "name": "stdout",
     "output_type": "stream",
     "text": [
      "Observation Spec:\n",
      "BoundedArraySpec(shape=(4,), dtype=dtype('float32'), name='observation', minimum=[-4.8000002e+00 -3.4028235e+38 -4.1887903e-01 -3.4028235e+38], maximum=[4.8000002e+00 3.4028235e+38 4.1887903e-01 3.4028235e+38])\n",
      "Action Spec:\n",
      "BoundedArraySpec(shape=(), dtype=dtype('int64'), name='action', minimum=0, maximum=1)\n"
     ]
    }
   ],
   "source": [
    "print('Observation Spec:')\n",
    "print(env.time_step_spec().observation)\n",
    "print('Action Spec:')\n",
    "print(env.action_spec())"
   ]
  },
  {
   "cell_type": "markdown",
   "metadata": {
    "id": "eJCgJnx3g0yY",
    "pycharm": {
     "name": "#%% md\n"
    }
   },
   "source": [
    "So, we see that observation is an array of 4 floats: the position and velocity of the cart, and the angular position and velocity of the pole. Since only two actions are possible (move left or move right), the `action_spec` is a scalar where 0 means \"move left\" and 1 means \"move right.\""
   ]
  },
  {
   "cell_type": "code",
   "execution_count": 8,
   "metadata": {
    "execution": {
     "iopub.execute_input": "2022-06-05T13:00:49.139557Z",
     "iopub.status.busy": "2022-06-05T13:00:49.139103Z",
     "iopub.status.idle": "2022-06-05T13:00:49.145625Z",
     "shell.execute_reply": "2022-06-05T13:00:49.145084Z"
    },
    "id": "V2UGR5t_iZX-",
    "pycharm": {
     "name": "#%%\n"
    }
   },
   "outputs": [
    {
     "name": "stdout",
     "output_type": "stream",
     "text": [
      "Time step:\n",
      "TimeStep(\n",
      "{'discount': array(1., dtype=float32),\n",
      " 'observation': array([-0.03624592,  0.04034629,  0.04633288, -0.02761826], dtype=float32),\n",
      " 'reward': array(0., dtype=float32),\n",
      " 'step_type': array(0, dtype=int32)})\n",
      "Next time step:\n",
      "TimeStep(\n",
      "{'discount': array(1., dtype=float32),\n",
      " 'observation': array([-0.03543899,  0.23477422,  0.04578052, -0.3053302 ], dtype=float32),\n",
      " 'reward': array(1., dtype=float32),\n",
      " 'step_type': array(1, dtype=int32)})\n"
     ]
    }
   ],
   "source": [
    "time_step = env.reset()\n",
    "print('Time step:')\n",
    "print(time_step)\n",
    "\n",
    "action = np.array(1, dtype=np.int32)\n",
    "\n",
    "next_time_step = env.step(action)\n",
    "print('Next time step:')\n",
    "print(next_time_step)"
   ]
  },
  {
   "cell_type": "markdown",
   "metadata": {
    "id": "zuUqXAVmecTU",
    "pycharm": {
     "name": "#%% md\n"
    }
   },
   "source": [
    "Usually we create two environments: one for training and one for evaluation. Most environments are written in pure python, but they can be easily converted to TensorFlow using the `TFPyEnvironment` wrapper. The original environment's API uses numpy arrays, the `TFPyEnvironment` converts these to/from `Tensors` for you to more easily interact with TensorFlow policies and agents.\n"
   ]
  },
  {
   "cell_type": "code",
   "execution_count": 9,
   "metadata": {
    "execution": {
     "iopub.execute_input": "2022-06-05T13:00:49.148828Z",
     "iopub.status.busy": "2022-06-05T13:00:49.148340Z",
     "iopub.status.idle": "2022-06-05T13:00:49.158832Z",
     "shell.execute_reply": "2022-06-05T13:00:49.158284Z"
    },
    "id": "Xp-Y4mD6eDhF",
    "pycharm": {
     "name": "#%%\n"
    }
   },
   "outputs": [],
   "source": [
    "train_py_env = suite_gym.load(env_name)\n",
    "eval_py_env = suite_gym.load(env_name)\n",
    "\n",
    "train_env = tf_py_environment.TFPyEnvironment(train_py_env)\n",
    "eval_env = tf_py_environment.TFPyEnvironment(eval_py_env)"
   ]
  },
  {
   "cell_type": "markdown",
   "metadata": {
    "id": "E9lW_OZYFR8A",
    "pycharm": {
     "name": "#%% md\n"
    }
   },
   "source": [
    "## Agent\n",
    "\n",
    "The algorithm that we use to solve an RL problem is represented as an `Agent`. In addition to the REINFORCE agent, TF-Agents provides standard implementations of a variety of `Agents` such as [DQN](https://storage.googleapis.com/deepmind-media/dqn/DQNNaturePaper.pdf), [DDPG](https://arxiv.org/pdf/1509.02971.pdf), [TD3](https://arxiv.org/pdf/1802.09477.pdf), [PPO](https://arxiv.org/abs/1707.06347) and [SAC](https://arxiv.org/abs/1801.01290).\n",
    "\n",
    "To create a REINFORCE Agent, we first need an `Actor Network` that can learn to predict the action given an observation from the environment.\n",
    "\n",
    "We can easily create an `Actor Network` using the specs of the observations and actions. We can specify the layers in the network which, in this example, is the `fc_layer_params` argument set to a tuple of `ints` representing the sizes of each hidden layer (see the Hyperparameters section above).\n"
   ]
  },
  {
   "cell_type": "code",
   "execution_count": 10,
   "metadata": {
    "execution": {
     "iopub.execute_input": "2022-06-05T13:00:49.162108Z",
     "iopub.status.busy": "2022-06-05T13:00:49.161630Z",
     "iopub.status.idle": "2022-06-05T13:00:49.197343Z",
     "shell.execute_reply": "2022-06-05T13:00:49.196785Z"
    },
    "id": "TgkdEPg_muzV",
    "pycharm": {
     "name": "#%%\n"
    }
   },
   "outputs": [],
   "source": [
    "actor_net = actor_distribution_network.ActorDistributionNetwork(\n",
    "    train_env.observation_spec(),\n",
    "    train_env.action_spec(),\n",
    "    fc_layer_params=fc_layer_params)"
   ]
  },
  {
   "cell_type": "markdown",
   "metadata": {
    "id": "z62u55hSmviJ",
    "pycharm": {
     "name": "#%% md\n"
    }
   },
   "source": [
    "We also need an `optimizer` to train the network we just created, and a `train_step_counter` variable to keep track of how many times the network was updated.\n"
   ]
  },
  {
   "cell_type": "code",
   "execution_count": 11,
   "metadata": {
    "execution": {
     "iopub.execute_input": "2022-06-05T13:00:49.200729Z",
     "iopub.status.busy": "2022-06-05T13:00:49.200190Z",
     "iopub.status.idle": "2022-06-05T13:00:52.426307Z",
     "shell.execute_reply": "2022-06-05T13:00:52.425620Z"
    },
    "id": "jbY4yrjTEyc9",
    "pycharm": {
     "name": "#%%\n"
    }
   },
   "outputs": [],
   "source": [
    "optimizer = tf.keras.optimizers.Adam(learning_rate=learning_rate)\n",
    "\n",
    "train_step_counter = tf.Variable(0)\n",
    "\n",
    "tf_agent = reinforce_agent.ReinforceAgent(\n",
    "    train_env.time_step_spec(),\n",
    "    train_env.action_spec(),\n",
    "    actor_network=actor_net,\n",
    "    optimizer=optimizer,\n",
    "    normalize_returns=True,\n",
    "    train_step_counter=train_step_counter)\n",
    "tf_agent.initialize()"
   ]
  },
  {
   "cell_type": "markdown",
   "metadata": {
    "id": "I0KLrEPwkn5x",
    "pycharm": {
     "name": "#%% md\n"
    }
   },
   "source": [
    "## Policies\n",
    "\n",
    "In TF-Agents, policies represent the standard notion of policies in RL: given a `time_step` produce an action or a distribution over actions. The main method is `policy_step = policy.action(time_step)` where `policy_step` is a named tuple `PolicyStep(action, state, info)`.  The `policy_step.action` is the `action` to be applied to the environment, `state` represents the state for stateful (RNN) policies and `info` may contain auxiliary information such as log probabilities of the actions.\n",
    "\n",
    "Agents contain two policies: the main policy that is used for evaluation/deployment (agent.policy) and another policy that is used for data collection (agent.collect_policy)."
   ]
  },
  {
   "cell_type": "code",
   "execution_count": 12,
   "metadata": {
    "execution": {
     "iopub.execute_input": "2022-06-05T13:00:52.430426Z",
     "iopub.status.busy": "2022-06-05T13:00:52.429826Z",
     "iopub.status.idle": "2022-06-05T13:00:52.433409Z",
     "shell.execute_reply": "2022-06-05T13:00:52.432736Z"
    },
    "id": "BwY7StuMkuV4",
    "pycharm": {
     "name": "#%%\n"
    }
   },
   "outputs": [],
   "source": [
    "eval_policy = tf_agent.policy\n",
    "collect_policy = tf_agent.collect_policy"
   ]
  },
  {
   "cell_type": "markdown",
   "metadata": {
    "id": "94rCXQtbUbXv",
    "pycharm": {
     "name": "#%% md\n"
    }
   },
   "source": [
    "## Metrics and Evaluation\n",
    "\n",
    "The most common metric used to evaluate a policy is the average return. The return is the sum of rewards obtained while running a policy in an environment for an episode, and we usually average this over a few episodes. We can compute the average return metric as follows.\n"
   ]
  },
  {
   "cell_type": "code",
   "execution_count": 13,
   "metadata": {
    "execution": {
     "iopub.execute_input": "2022-06-05T13:00:52.436878Z",
     "iopub.status.busy": "2022-06-05T13:00:52.436373Z",
     "iopub.status.idle": "2022-06-05T13:00:52.440609Z",
     "shell.execute_reply": "2022-06-05T13:00:52.440060Z"
    },
    "id": "bitzHo5_UbXy",
    "pycharm": {
     "name": "#%%\n"
    }
   },
   "outputs": [],
   "source": [
    "#@test {\"skip\": true}\n",
    "def compute_avg_return(environment, policy, num_episodes=10):\n",
    "\n",
    "  total_return = 0.0\n",
    "  for _ in range(num_episodes):\n",
    "\n",
    "    time_step = environment.reset()\n",
    "    episode_return = 0.0\n",
    "\n",
    "    while not time_step.is_last():\n",
    "      action_step = policy.action(time_step)\n",
    "      time_step = environment.step(action_step.action)\n",
    "      episode_return += time_step.reward\n",
    "    total_return += episode_return\n",
    "\n",
    "  avg_return = total_return / num_episodes\n",
    "  return avg_return.numpy()[0]\n",
    "\n",
    "\n",
    "# Please also see the metrics module for standard implementations of different\n",
    "# metrics."
   ]
  },
  {
   "cell_type": "markdown",
   "metadata": {
    "id": "NLva6g2jdWgr",
    "pycharm": {
     "name": "#%% md\n"
    }
   },
   "source": [
    "## Replay Buffer\n",
    "\n",
    "In order to keep track of the data collected from the environment, we will use [Reverb](https://deepmind.com/research/open-source/Reverb), an efficient, extensible, and easy-to-use replay system by Deepmind. It stores experience data when we collect trajectories and is consumed during training.\n",
    "\n",
    "This replay buffer is constructed using specs describing the tensors that are to be stored, which can be obtained from the agent using `tf_agent.collect_data_spec`."
   ]
  },
  {
   "cell_type": "code",
   "execution_count": 14,
   "metadata": {
    "execution": {
     "iopub.execute_input": "2022-06-05T13:00:52.443853Z",
     "iopub.status.busy": "2022-06-05T13:00:52.443336Z",
     "iopub.status.idle": "2022-06-05T13:00:52.457793Z",
     "shell.execute_reply": "2022-06-05T13:00:52.457189Z"
    },
    "id": "vX2zGUWJGWAl",
    "pycharm": {
     "name": "#%%\n"
    }
   },
   "outputs": [
    {
     "name": "stderr",
     "output_type": "stream",
     "text": [
      "[reverb/cc/platform/tfrecord_checkpointer.cc:162]  Initializing TFRecordCheckpointer in /tmpfs/tmp/tmpgtt68s1k.\n",
      "[reverb/cc/platform/tfrecord_checkpointer.cc:552] Loading latest checkpoint from /tmpfs/tmp/tmpgtt68s1k\n",
      "[reverb/cc/platform/default/server.cc:71] Started replay server on port 24645\n"
     ]
    }
   ],
   "source": [
    "table_name = 'uniform_table'\n",
    "replay_buffer_signature = tensor_spec.from_spec(\n",
    "      tf_agent.collect_data_spec)\n",
    "replay_buffer_signature = tensor_spec.add_outer_dim(\n",
    "      replay_buffer_signature)\n",
    "table = reverb.Table(\n",
    "    table_name,\n",
    "    max_size=replay_buffer_capacity,\n",
    "    sampler=reverb.selectors.Uniform(),\n",
    "    remover=reverb.selectors.Fifo(),\n",
    "    rate_limiter=reverb.rate_limiters.MinSize(1),\n",
    "    signature=replay_buffer_signature)\n",
    "\n",
    "reverb_server = reverb.Server([table])\n",
    "\n",
    "replay_buffer = reverb_replay_buffer.ReverbReplayBuffer(\n",
    "    tf_agent.collect_data_spec,\n",
    "    table_name=table_name,\n",
    "    sequence_length=None,\n",
    "    local_server=reverb_server)\n",
    "\n",
    "rb_observer = reverb_utils.ReverbAddEpisodeObserver(\n",
    "    replay_buffer.py_client,\n",
    "    table_name,\n",
    "    replay_buffer_capacity\n",
    ")"
   ]
  },
  {
   "cell_type": "markdown",
   "metadata": {
    "id": "ZGNTDJpZs4NN",
    "pycharm": {
     "name": "#%% md\n"
    }
   },
   "source": [
    "For most agents, the `collect_data_spec` is a `Trajectory` named tuple containing the observation, action, reward etc."
   ]
  },
  {
   "cell_type": "markdown",
   "metadata": {
    "id": "rVD5nQ9ZGo8_",
    "pycharm": {
     "name": "#%% md\n"
    }
   },
   "source": [
    "## Data Collection\n",
    "\n",
    "As REINFORCE learns from whole episodes, we define a function to collect an episode using the given data collection policy and save the data (observations, actions, rewards etc.) as trajectories in the replay buffer. Here we are using 'PyDriver' to run the experience collecting loop. You can learn more about TF Agents driver in our [drivers tutorial](https://www.tensorflow.org/agents/tutorials/4_drivers_tutorial)."
   ]
  },
  {
   "cell_type": "code",
   "execution_count": 15,
   "metadata": {
    "execution": {
     "iopub.execute_input": "2022-06-05T13:00:52.461155Z",
     "iopub.status.busy": "2022-06-05T13:00:52.460610Z",
     "iopub.status.idle": "2022-06-05T13:00:52.464615Z",
     "shell.execute_reply": "2022-06-05T13:00:52.464034Z"
    },
    "id": "wr1KSAEGG4h9",
    "pycharm": {
     "name": "#%%\n"
    }
   },
   "outputs": [],
   "source": [
    "#@test {\"skip\": true}\n",
    "\n",
    "def collect_episode(environment, policy, num_episodes):\n",
    "\n",
    "  driver = py_driver.PyDriver(\n",
    "    environment,\n",
    "    py_tf_eager_policy.PyTFEagerPolicy(\n",
    "      policy, use_tf_function=True),\n",
    "    [rb_observer],\n",
    "    max_episodes=num_episodes)\n",
    "  initial_time_step = environment.reset()\n",
    "  driver.run(initial_time_step)"
   ]
  },
  {
   "cell_type": "markdown",
   "metadata": {
    "id": "hBc9lj9VWWtZ",
    "pycharm": {
     "name": "#%% md\n"
    }
   },
   "source": [
    "## Training the agent\n",
    "\n",
    "The training loop involves both collecting data from the environment and optimizing the agent's networks. Along the way, we will occasionally evaluate the agent's policy to see how we are doing.\n",
    "\n",
    "The following will take ~3 minutes to run."
   ]
  },
  {
   "cell_type": "code",
   "execution_count": 16,
   "metadata": {
    "execution": {
     "iopub.execute_input": "2022-06-05T13:00:52.467558Z",
     "iopub.status.busy": "2022-06-05T13:00:52.467083Z",
     "iopub.status.idle": "2022-06-05T13:03:24.132571Z",
     "shell.execute_reply": "2022-06-05T13:03:24.131840Z"
    },
    "id": "0pTbJ3PeyF-u",
    "pycharm": {
     "name": "#%%\n"
    }
   },
   "outputs": [
    {
     "name": "stderr",
     "output_type": "stream",
     "text": [
      "[reverb/cc/client.cc:165] Sampler and server are owned by the same process (47879) so Table uniform_table is accessed directly without gRPC.\n"
     ]
    },
    {
     "name": "stderr",
     "output_type": "stream",
     "text": [
      "[reverb/cc/client.cc:165] Sampler and server are owned by the same process (47879) so Table uniform_table is accessed directly without gRPC.\n"
     ]
    },
    {
     "name": "stderr",
     "output_type": "stream",
     "text": [
      "[reverb/cc/client.cc:165] Sampler and server are owned by the same process (47879) so Table uniform_table is accessed directly without gRPC.\n"
     ]
    },
    {
     "name": "stderr",
     "output_type": "stream",
     "text": [
      "[reverb/cc/client.cc:165] Sampler and server are owned by the same process (47879) so Table uniform_table is accessed directly without gRPC.\n"
     ]
    },
    {
     "name": "stderr",
     "output_type": "stream",
     "text": [
      "[reverb/cc/client.cc:165] Sampler and server are owned by the same process (47879) so Table uniform_table is accessed directly without gRPC.\n"
     ]
    },
    {
     "name": "stdout",
     "output_type": "stream",
     "text": [
      "step = 25: loss = 1.067263126373291\n"
     ]
    },
    {
     "name": "stderr",
     "output_type": "stream",
     "text": [
      "[reverb/cc/client.cc:165] Sampler and server are owned by the same process (47879) so Table uniform_table is accessed directly without gRPC.\n"
     ]
    },
    {
     "name": "stdout",
     "output_type": "stream",
     "text": [
      "step = 50: loss = 1.5737754106521606\n"
     ]
    },
    {
     "name": "stdout",
     "output_type": "stream",
     "text": [
      "step = 50: Average Return = 145.0\n"
     ]
    },
    {
     "name": "stderr",
     "output_type": "stream",
     "text": [
      "[reverb/cc/client.cc:165] Sampler and server are owned by the same process (47879) so Table uniform_table is accessed directly without gRPC.\n"
     ]
    },
    {
     "name": "stdout",
     "output_type": "stream",
     "text": [
      "step = 75: loss = 0.6317071914672852\n"
     ]
    },
    {
     "name": "stdout",
     "output_type": "stream",
     "text": [
      "step = 100: loss = 0.0616912841796875\n"
     ]
    },
    {
     "name": "stdout",
     "output_type": "stream",
     "text": [
      "step = 100: Average Return = 136.0\n"
     ]
    },
    {
     "name": "stdout",
     "output_type": "stream",
     "text": [
      "step = 125: loss = 0.9485893249511719\n"
     ]
    },
    {
     "name": "stderr",
     "output_type": "stream",
     "text": [
      "[reverb/cc/client.cc:165] Sampler and server are owned by the same process (47879) so Table uniform_table is accessed directly without gRPC.\n"
     ]
    },
    {
     "name": "stdout",
     "output_type": "stream",
     "text": [
      "step = 150: loss = 0.1878223419189453\n"
     ]
    },
    {
     "name": "stdout",
     "output_type": "stream",
     "text": [
      "step = 150: Average Return = 180.60000610351562\n"
     ]
    },
    {
     "name": "stdout",
     "output_type": "stream",
     "text": [
      "step = 175: loss = 3.10561466217041\n"
     ]
    },
    {
     "name": "stdout",
     "output_type": "stream",
     "text": [
      "step = 200: loss = 2.0889930725097656\n"
     ]
    },
    {
     "name": "stdout",
     "output_type": "stream",
     "text": [
      "step = 200: Average Return = 148.60000610351562\n"
     ]
    },
    {
     "name": "stdout",
     "output_type": "stream",
     "text": [
      "step = 225: loss = -1.635589599609375\n"
     ]
    },
    {
     "name": "stdout",
     "output_type": "stream",
     "text": [
      "step = 250: loss = -3.634218215942383\n"
     ]
    },
    {
     "name": "stdout",
     "output_type": "stream",
     "text": [
      "step = 250: Average Return = 200.0\n"
     ]
    }
   ],
   "source": [
    "#@test {\"skip\": true}\n",
    "try:\n",
    "  %%time\n",
    "except:\n",
    "  pass\n",
    "\n",
    "# (Optional) Optimize by wrapping some of the code in a graph using TF function.\n",
    "tf_agent.train = common.function(tf_agent.train)\n",
    "\n",
    "# Reset the train step\n",
    "tf_agent.train_step_counter.assign(0)\n",
    "\n",
    "# Evaluate the agent's policy once before training.\n",
    "avg_return = compute_avg_return(eval_env, tf_agent.policy, num_eval_episodes)\n",
    "returns = [avg_return]\n",
    "\n",
    "for _ in range(num_iterations):\n",
    "\n",
    "  # Collect a few episodes using collect_policy and save to the replay buffer.\n",
    "  collect_episode(\n",
    "      train_py_env, tf_agent.collect_policy, collect_episodes_per_iteration)\n",
    "\n",
    "  # Use data from the buffer and update the agent's network.\n",
    "  iterator = iter(replay_buffer.as_dataset(sample_batch_size=1))\n",
    "  trajectories, _ = next(iterator)\n",
    "  train_loss = tf_agent.train(experience=trajectories)  \n",
    "\n",
    "  replay_buffer.clear()\n",
    "\n",
    "  step = tf_agent.train_step_counter.numpy()\n",
    "\n",
    "  if step % log_interval == 0:\n",
    "    print('step = {0}: loss = {1}'.format(step, train_loss.loss))\n",
    "\n",
    "  if step % eval_interval == 0:\n",
    "    avg_return = compute_avg_return(eval_env, tf_agent.policy, num_eval_episodes)\n",
    "    print('step = {0}: Average Return = {1}'.format(step, avg_return))\n",
    "    returns.append(avg_return)"
   ]
  },
  {
   "cell_type": "markdown",
   "metadata": {
    "id": "68jNcA_TiJDq",
    "pycharm": {
     "name": "#%% md\n"
    }
   },
   "source": [
    "## Visualization\n"
   ]
  },
  {
   "cell_type": "markdown",
   "metadata": {
    "id": "aO-LWCdbbOIC",
    "pycharm": {
     "name": "#%% md\n"
    }
   },
   "source": [
    "### Plots\n",
    "\n",
    "We can plot return vs global steps to see the performance of our agent. In `Cartpole-v0`, the environment gives a reward of +1 for every time step the pole stays up, and since the maximum number of steps is 200, the maximum possible return is also 200."
   ]
  },
  {
   "cell_type": "code",
   "execution_count": 17,
   "metadata": {
    "execution": {
     "iopub.execute_input": "2022-06-05T13:03:24.135809Z",
     "iopub.status.busy": "2022-06-05T13:03:24.135564Z",
     "iopub.status.idle": "2022-06-05T13:03:24.300145Z",
     "shell.execute_reply": "2022-06-05T13:03:24.299565Z"
    },
    "id": "NxtL1mbOYCVO",
    "pycharm": {
     "name": "#%%\n"
    }
   },
   "outputs": [
    {
     "data": {
      "text/plain": [
       "(25.80499839782715, 250.0)"
      ]
     },
     "execution_count": 17,
     "metadata": {},
     "output_type": "execute_result"
    },
    {
     "data": {
      "image/png": "[encoded data removed]",
      "text/plain": [
       "<Figure size 432x288 with 1 Axes>"
      ]
     },
     "metadata": {
      "needs_background": "light"
     },
     "output_type": "display_data"
    }
   ],
   "source": [
    "#@test {\"skip\": true}\n",
    "\n",
    "steps = range(0, num_iterations + 1, eval_interval)\n",
    "plt.plot(steps, returns)\n",
    "plt.ylabel('Average Return')\n",
    "plt.xlabel('Step')\n",
    "plt.ylim(top=250)"
   ]
  },
  {
   "cell_type": "markdown",
   "metadata": {
    "id": "M7-XpPP99Cy7",
    "pycharm": {
     "name": "#%% md\n"
    }
   },
   "source": [
    "### Videos"
   ]
  },
  {
   "cell_type": "markdown",
   "metadata": {
    "id": "9pGfGxSH32gn",
    "pycharm": {
     "name": "#%% md\n"
    }
   },
   "source": [
    "It is helpful to visualize the performance of an agent by rendering the environment at each step. Before we do that, let us first create a function to embed videos in this colab."
   ]
  },
  {
   "cell_type": "code",
   "execution_count": 18,
   "metadata": {
    "execution": {
     "iopub.execute_input": "2022-06-05T13:03:24.303555Z",
     "iopub.status.busy": "2022-06-05T13:03:24.303310Z",
     "iopub.status.idle": "2022-06-05T13:03:24.307559Z",
     "shell.execute_reply": "2022-06-05T13:03:24.306999Z"
    },
    "id": "ULaGr8pvOKbl",
    "pycharm": {
     "name": "#%%\n"
    }
   },
   "outputs": [],
   "source": [
    "def embed_mp4(filename):\n",
    "  \"\"\"Embeds an mp4 file in the notebook.\"\"\"\n",
    "  video = open(filename,'rb').read()\n",
    "  b64 = base64.b64encode(video)\n",
    "  tag = '''\n",
    "  <video width=\"640\" height=\"480\" controls>\n",
    "    <source src=\"data:video/mp4;base64,{0}\" type=\"video/mp4\">\n",
    "  Your browser does not support the video tag.\n",
    "  </video>'''.format(b64.decode())\n",
    "\n",
    "  return IPython.display.HTML(tag)"
   ]
  },
  {
   "cell_type": "markdown",
   "metadata": {
    "id": "9c_PH-pX4Pr5",
    "pycharm": {
     "name": "#%% md\n"
    }
   },
   "source": [
    "The following code visualizes the agent's policy for a few episodes:"
   ]
  },
  {
   "cell_type": "code",
   "execution_count": 19,
   "metadata": {
    "execution": {
     "iopub.execute_input": "2022-06-05T13:03:24.310885Z",
     "iopub.status.busy": "2022-06-05T13:03:24.310284Z",
     "iopub.status.idle": "2022-06-05T13:03:29.678339Z",
     "shell.execute_reply": "2022-06-05T13:03:29.677625Z"
    },
    "id": "owOVWB158NlF",
    "pycharm": {
     "name": "#%%\n"
    }
   },
   "outputs": [
    {
     "name": "stderr",
     "output_type": "stream",
     "text": [
      "WARNING:root:IMAGEIO FFMPEG_WRITER WARNING: input image is not divisible by macro_block_size=16, resizing from (400, 600) to (400, 608) to ensure video compatibility with most codecs and players. To prevent resizing, make your input image divisible by the macro_block_size or set the macro_block_size to None (risking incompatibility). You may also see a FFMPEG warning concerning speedloss due to data not being aligned.\n"
     ]
    },
    {
     "name": "stderr",
     "output_type": "stream",
     "text": [
      "[swscaler @ 0x5619e4285880] Warning: data is not aligned! This can lead to a speed loss\n"
     ]
    },
    {
     "data": {
      "text/html": [
       "\n",
       "  <video width=\"640\" height=\"480\" controls>\n",
       "    <source src=\"data:video/mp4;base64,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\" type=\"video/mp4\">\n",
       "  Your browser does not support the video tag.\n",
       "  </video>"
      ],
      "text/plain": [
       "<IPython.core.display.HTML object>"
      ]
     },
     "execution_count": 19,
     "metadata": {},
     "output_type": "execute_result"
    }
   ],
   "source": [
    "num_episodes = 3\n",
    "video_filename = 'imageio.mp4'\n",
    "with imageio.get_writer(video_filename, fps=60) as video:\n",
    "  for _ in range(num_episodes):\n",
    "    time_step = eval_env.reset()\n",
    "    video.append_data(eval_py_env.render())\n",
    "    while not time_step.is_last():\n",
    "      action_step = tf_agent.policy.action(time_step)\n",
    "      time_step = eval_env.step(action_step.action)\n",
    "      video.append_data(eval_py_env.render())\n",
    "\n",
    "embed_mp4(video_filename)"
   ]
  }
 ],
 "metadata": {
  "accelerator": "GPU",
  "colab": {
   "collapsed_sections": [],
   "name": "6_reinforce_tutorial.ipynb",
   "provenance": [],
   "toc_visible": true
  },
  "kernelspec": {
   "display_name": "Python 3",
   "name": "python3"
  },
  "language_info": {
   "codemirror_mode": {
    "name": "ipython",
    "version": 3
   },
   "file_extension": ".py",
   "mimetype": "text/x-python",
   "name": "python",
   "nbconvert_exporter": "python",
   "pygments_lexer": "ipython3",
   "version": "3.9.13"
  }
 },
 "nbformat": 4,
 "nbformat_minor": 0
}