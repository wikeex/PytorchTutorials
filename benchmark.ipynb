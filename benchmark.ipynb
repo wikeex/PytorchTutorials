{
 "cells": [
  {
   "cell_type": "code",
   "execution_count": 10,
   "outputs": [],
   "source": [
    "import torch\n",
    "from torch.utils import benchmark\n",
    "\n",
    "device = torch.device('mps')"
   ],
   "metadata": {
    "collapsed": false,
    "pycharm": {
     "name": "#%%\n"
    }
   }
  },
  {
   "cell_type": "code",
   "execution_count": 11,
   "outputs": [
    {
     "name": "stderr",
     "output_type": "stream",
     "text": [
      "[W ParallelNative.cpp:229] Warning: Cannot set number of intraop threads after parallel work has started or after set_num_threads call when using native parallel backend (function set_num_threads)\n"
     ]
    },
    {
     "data": {
      "text/plain": "136129.0938038885"
     },
     "execution_count": 11,
     "metadata": {},
     "output_type": "execute_result"
    }
   ],
   "source": [
    "typ = torch.float16\n",
    "n = 1024 * 16\n",
    "\n",
    "a = torch.randn(n, n).type(typ).to(device=device)\n",
    "b = torch.randn(n, n).type(typ).to(device=device)\n",
    "\n",
    "t = benchmark.Timer(\n",
    "    stmt='a @ b',\n",
    "    globals={'a': a, 'b': b}\n",
    ")\n",
    "\n",
    "x = t.timeit(50)\n",
    "2 * n ** 3 / x.median / 1e12"
   ],
   "metadata": {
    "collapsed": false,
    "pycharm": {
     "name": "#%%\n"
    }
   }
  }
 ],
 "metadata": {
  "kernelspec": {
   "display_name": "Python 3",
   "language": "python",
   "name": "python3"
  },
  "language_info": {
   "codemirror_mode": {
    "name": "ipython",
    "version": 2
   },
   "file_extension": ".py",
   "mimetype": "text/x-python",
   "name": "python",
   "nbconvert_exporter": "python",
   "pygments_lexer": "ipython2",
   "version": "2.7.6"
  }
 },
 "nbformat": 4,
 "nbformat_minor": 0
}