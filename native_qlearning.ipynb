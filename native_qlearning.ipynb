{
 "cells": [
  {
   "cell_type": "code",
   "execution_count": null,
   "metadata": {
    "collapsed": true,
    "pycharm": {
     "name": "#%%\n"
    }
   },
   "outputs": [],
   "source": [
    "import numpy as np\n",
    "import random\n",
    "import matplotlib.pyplot as plt"
   ]
  },
  {
   "cell_type": "code",
   "execution_count": null,
   "outputs": [],
   "source": [
    "q_fun = np.zeros((6, 6))"
   ],
   "metadata": {
    "collapsed": false,
    "pycharm": {
     "name": "#%%\n"
    }
   }
  },
  {
   "cell_type": "code",
   "execution_count": null,
   "outputs": [],
   "source": [
    "reward = np.array([[-1, -1, -1, -1, 0, -1],\n",
    "                   [-1, -1, -1, 0, -1, 100],\n",
    "                   [-1, -1, -1, 0, -1, -1],\n",
    "                   [-1, 0, 0, -1, 0, -1],\n",
    "                   [0, -1, -1, 0, -1, 100],\n",
    "                   [-1, 0, -1, -1, 0, 100]])\n",
    "\n",
    "legal_action = [[4],\n",
    "                [3, 5],\n",
    "                [3],\n",
    "                [1, 2, 4],\n",
    "                [0, 3, 5],\n",
    "                [1, 4, 5]]"
   ],
   "metadata": {
    "collapsed": false,
    "pycharm": {
     "name": "#%%\n"
    }
   }
  },
  {
   "cell_type": "code",
   "execution_count": null,
   "outputs": [],
   "source": [
    "GAMMA = 0.5\n",
    "TRAINING_STEP = 100\n",
    "LAYOUT = 221"
   ],
   "metadata": {
    "collapsed": false,
    "pycharm": {
     "name": "#%%\n"
    }
   }
  },
  {
   "cell_type": "code",
   "execution_count": null,
   "outputs": [],
   "source": [
    "for i in range(1, TRAINING_STEP + 1):\n",
    "    state = random.randint(0, 4)\n",
    "    # 百分百探索，随机产生next_state\n",
    "    next_state = random.choice(legal_action[state])\n",
    "    q_fun[state, next_state] = reward[state, next_state] + GAMMA * q_fun[next_state].max()\n",
    "\n",
    "    if i % (TRAINING_STEP/4) == 0:\n",
    "        plt.subplot(LAYOUT)\n",
    "        plt.imshow(q_fun, cmap='gray_r')\n",
    "        LAYOUT += 1\n",
    "        print(q_fun)\n",
    "plt.show()"
   ],
   "metadata": {
    "collapsed": false,
    "pycharm": {
     "name": "#%%\n"
    }
   }
  }
 ],
 "metadata": {
  "kernelspec": {
   "display_name": "Python 3",
   "language": "python",
   "name": "python3"
  },
  "language_info": {
   "codemirror_mode": {
    "name": "ipython",
    "version": 2
   },
   "file_extension": ".py",
   "mimetype": "text/x-python",
   "name": "python",
   "nbconvert_exporter": "python",
   "pygments_lexer": "ipython2",
   "version": "2.7.6"
  }
 },
 "nbformat": 4,
 "nbformat_minor": 0
}