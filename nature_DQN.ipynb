{
 "cells": [
  {
   "cell_type": "code",
   "execution_count": null,
   "outputs": [],
   "source": [
    "import torch\n",
    "import torch.nn as nn\n",
    "from collections import deque\n",
    "import numpy as np\n",
    "import gym\n",
    "import random\n",
    "from net import AtariNet\n",
    "from util import preprocess"
   ],
   "metadata": {
    "collapsed": false,
    "pycharm": {
     "name": "#%%\n"
    }
   }
  },
  {
   "cell_type": "code",
   "execution_count": null,
   "outputs": [],
   "source": [
    "BATCH_SIZE = 32\n",
    "LR = 0.001\n",
    "START_EPSILON = 1.0\n",
    "FINAL_EPSILON = 0.1\n",
    "EPSILON = START_EPSILON\n",
    "EXPLORE = 1000000\n",
    "GAMMA = 0.99\n",
    "TOTAL_EPISODES = 10000000\n",
    "MEMORY_SIZE = 1000000\n",
    "MEMORY_THRESHOLD = 100000\n",
    "UPDATE_TIME = 10000\n",
    "TEST_FREQUENCY = 1000\n",
    "env = gym.make('Pong-v0')\n",
    "env = env.unwrapped\n",
    "ACTIONS_SIZE = env.action_space.n"
   ],
   "metadata": {
    "collapsed": false,
    "pycharm": {
     "name": "#%%\n"
    }
   }
  },
  {
   "cell_type": "code",
   "execution_count": null,
   "outputs": [],
   "source": [
    "class Agent(object):\n",
    "    def __init__(self):\n",
    "        self.network, self.target_network = AtariNet(ACTIONS_SIZE), AtariNet(ACTIONS_SIZE)\n",
    "        self.memory = deque()\n",
    "        self.learning_count = 0\n",
    "        self.optimizer = torch.optim.Adam(self.network.parameters(), lr=LR)\n",
    "        self.loss_func = nn.MSELoss()\n",
    "\n",
    "    def action(self, state, israndom):\n",
    "        if israndom and random.random() < EPSILON:\n",
    "            return np.random.randint(0, ACTIONS_SIZE)\n",
    "        state = torch.unsqueeze(torch.FloatTensor(state), 0)\n",
    "        actions_value = self.network.forward(state)\n",
    "        return torch.max(actions_value, 1)[1].data.numpy()[0]\n",
    "\n",
    "    def learn(self, state, action, reward, next_state, done):\n",
    "        if done:\n",
    "            self.memory.append((state, action, reward, next_state, 0))\n",
    "        else:\n",
    "            self.memory.append((state, action, reward, next_state, 1))\n",
    "        if len(self.memory) > MEMORY_SIZE:\n",
    "            self.memory.popleft()\n",
    "        if len(self.memory) < MEMORY_THRESHOLD:\n",
    "            return\n",
    "\n",
    "        if self.learning_count % UPDATE_TIME == 0:\n",
    "            self.target_network.load_state_dict(self.network.state_dict())\n",
    "        self.learning_count += 1\n",
    "\n",
    "        batch = random.sample(self.memory, BATCH_SIZE)\n",
    "        state = torch.FloatTensor([x[0] for x in batch])\n",
    "        action = torch.LongTensor([[x[1]] for x in batch])\n",
    "        reward = torch.FloatTensor([[x[2]] for x in batch])\n",
    "        next_state = torch.FloatTensor([x[3] for x in batch])\n",
    "        done = torch.FloatTensor([[x[4]] for x in batch])\n",
    "\n",
    "        eval_q = self.network.forward(state).gather(1, action)\n",
    "        next_q = self.target_network(next_state).detach()\n",
    "        target_q = reward + GAMMA * next_q.max(1)[0].view(BATCH_SIZE, 1) * done\n",
    "        loss = self.loss_func(eval_q, target_q)\n",
    "\n",
    "        self.optimizer.zero_grad()\n",
    "        loss.backward()\n",
    "        self.optimizer.step()"
   ],
   "metadata": {
    "collapsed": false,
    "pycharm": {
     "name": "#%%\n"
    }
   }
  },
  {
   "cell_type": "code",
   "execution_count": null,
   "outputs": [],
   "source": [
    "agent = Agent()\n",
    "\n",
    "for i_episode in range(TOTAL_EPISODES):\n",
    "    state = env.reset()\n",
    "    state = preprocess(state)\n",
    "    while True:\n",
    "        # env.render()\n",
    "        action = agent.action(state, True)\n",
    "        next_state, reward, done, info = env.step(action)\n",
    "        next_state = preprocess(next_state)\n",
    "        agent.learn(state, action, reward, next_state, done)\n",
    "\n",
    "        state = next_state\n",
    "        if done:\n",
    "            break\n",
    "    if EPSILON > FINAL_EPSILON:\n",
    "        EPSILON -= (START_EPSILON - FINAL_EPSILON) / EXPLORE\n",
    "\n",
    "    # TEST\n",
    "    if i_episode % TEST_FREQUENCY == 0:\n",
    "        state = env.reset()\n",
    "        state = preprocess(state)\n",
    "        total_reward = 0\n",
    "        while True:\n",
    "            # env.render()\n",
    "            action = agent.action(state, israndom=False)\n",
    "            next_state, reward, done, info = env.step(action)\n",
    "            next_state = preprocess(next_state)\n",
    "            total_reward += reward\n",
    "\n",
    "            state = next_state\n",
    "            if done:\n",
    "                break\n",
    "        print('episode: {} , total_reward: {}'.format(i_episode, round(total_reward, 3)))\n",
    "\n",
    "env.close()"
   ],
   "metadata": {
    "collapsed": false,
    "pycharm": {
     "name": "#%%\n",
     "is_executing": true
    }
   }
  },
  {
   "cell_type": "code",
   "execution_count": null,
   "outputs": [],
   "source": [],
   "metadata": {
    "collapsed": false,
    "pycharm": {
     "name": "#%%\n",
     "is_executing": true
    }
   }
  }
 ],
 "metadata": {
  "kernelspec": {
   "display_name": "Python 3",
   "language": "python",
   "name": "python3"
  },
  "language_info": {
   "codemirror_mode": {
    "name": "ipython",
    "version": 2
   },
   "file_extension": ".py",
   "mimetype": "text/x-python",
   "name": "python",
   "nbconvert_exporter": "python",
   "pygments_lexer": "ipython2",
   "version": "2.7.6"
  }
 },
 "nbformat": 4,
 "nbformat_minor": 0
}